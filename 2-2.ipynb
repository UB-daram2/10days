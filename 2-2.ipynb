{
  "cells": [
    {
      "cell_type": "code",
      "source": [
        ""
      ],
      "metadata": {
        "id": "j8V--ztZRSU_"
      },
      "execution_count": 1,
      "outputs": []
    },
    {
      "cell_type": "markdown",
      "metadata": {
        "id": "xmyFUHP1yTEW"
      },
      "source": [
        "# 데이터 전처리"
      ]
    },
    {
      "cell_type": "markdown",
      "metadata": {
        "id": "xBBK_q7qyTEY"
      },
      "source": [
        "<table align=\"left\">\n",
        "  <td>\n",
        "    <a target=\"_blank\" href=\"https://colab.research.google.com/github/UB-daram2/10days/blob/main/2-2.ipynb\"><img src=\"https://www.tensorflow.org/images/colab_logo_32px.png\" />구글 코랩에서 실행하기</a>\n",
        "  </td>\n",
        "</table>"
      ]
    },
    {
      "cell_type": "markdown",
      "metadata": {
        "id": "E3O5_vXIyTEZ"
      },
      "source": [
        "## 넘파이로 데이터 준비하기"
      ]
    },
    {
      "cell_type": "code",
      "execution_count": 2,
      "metadata": {
        "id": "SLUDuHl8oJZX"
      },
      "outputs": [],
      "source": [
        "fish_length = [25.4, 26.3, 26.5, 29.0, 29.0, 29.7, 29.7, 30.0, 30.0, 30.7, 31.0, 31.0, \n",
        "                31.5, 32.0, 32.0, 32.0, 33.0, 33.0, 33.5, 33.5, 34.0, 34.0, 34.5, 35.0, \n",
        "                35.0, 35.0, 35.0, 36.0, 36.0, 37.0, 38.5, 38.5, 39.5, 41.0, 41.0, 9.8, \n",
        "                10.5, 10.6, 11.0, 11.2, 11.3, 11.8, 11.8, 12.0, 12.2, 12.4, 13.0, 14.3, 15.0]\n",
        "fish_weight = [242.0, 290.0, 340.0, 363.0, 430.0, 450.0, 500.0, 390.0, 450.0, 500.0, 475.0, 500.0, \n",
        "                500.0, 340.0, 600.0, 600.0, 700.0, 700.0, 610.0, 650.0, 575.0, 685.0, 620.0, 680.0, \n",
        "                700.0, 725.0, 720.0, 714.0, 850.0, 1000.0, 920.0, 955.0, 925.0, 975.0, 950.0, 6.7, \n",
        "                7.5, 7.0, 9.7, 9.8, 8.7, 10.0, 9.9, 9.8, 12.2, 13.4, 12.2, 19.7, 19.9]"
      ]
    },
    {
      "cell_type": "code",
      "execution_count": 3,
      "metadata": {
        "id": "0-OTt0n1LMjf"
      },
      "outputs": [],
      "source": [
        "import numpy as np"
      ]
    },
    {
      "cell_type": "code",
      "execution_count": 4,
      "metadata": {
        "colab": {
          "base_uri": "https://localhost:8080/"
        },
        "id": "zNlIVTw_lUIk",
        "outputId": "863f2dd3-a8aa-4243-fff4-8026a801a0f7"
      },
      "outputs": [
        {
          "data": {
            "text/plain": [
              "array([[1, 4],\n",
              "       [2, 5],\n",
              "       [3, 6]])"
            ]
          },
          "execution_count": 4,
          "metadata": {},
          "output_type": "execute_result"
        }
      ],
      "source": [
        "np.column_stack(([1,2,3], [4,5,6]))"
      ]
    },
    {
      "cell_type": "code",
      "execution_count": 5,
      "metadata": {
        "id": "ILMRbWnkLZVF"
      },
      "outputs": [],
      "source": [
        "fish_data = np.column_stack((fish_length, fish_weight))"
      ]
    },
    {
      "cell_type": "code",
      "execution_count": 6,
      "metadata": {
        "colab": {
          "base_uri": "https://localhost:8080/"
        },
        "id": "qbyxwJkoLh5W",
        "outputId": "20501d0f-7ed7-437c-9be2-cd0309e1930d"
      },
      "outputs": [
        {
          "metadata": {
            "tags": null
          },
          "name": "stdout",
          "output_type": "stream",
          "text": [
            "[[ 25.4 242. ]\n",
            " [ 26.3 290. ]\n",
            " [ 26.5 340. ]\n",
            " [ 29.  363. ]\n",
            " [ 29.  430. ]]\n"
          ]
        }
      ],
      "source": [
        "print(fish_data[:5])"
      ]
    },
    {
      "cell_type": "code",
      "execution_count": 7,
      "metadata": {
        "colab": {
          "base_uri": "https://localhost:8080/"
        },
        "id": "GgyJLb06yzEy",
        "outputId": "af646987-ce50-4647-a5b6-68dbd5f83e9b"
      },
      "outputs": [
        {
          "metadata": {
            "tags": null
          },
          "name": "stdout",
          "output_type": "stream",
          "text": [
            "[1. 1. 1. 1. 1.]\n"
          ]
        }
      ],
      "source": [
        "print(np.ones(5))"
      ]
    },
    {
      "cell_type": "code",
      "execution_count": 8,
      "metadata": {
        "id": "-ScgL2hIL0FB"
      },
      "outputs": [],
      "source": [
        "fish_target = np.concatenate((np.ones(35), np.zeros(14)))"
      ]
    },
    {
      "cell_type": "code",
      "execution_count": 9,
      "metadata": {
        "colab": {
          "base_uri": "https://localhost:8080/"
        },
        "id": "ZepGdT9uL7tA",
        "outputId": "85345f90-396b-4abf-d43b-f01a3537ad52"
      },
      "outputs": [
        {
          "metadata": {
            "tags": null
          },
          "name": "stdout",
          "output_type": "stream",
          "text": [
            "[1. 1. 1. 1. 1. 1. 1. 1. 1. 1. 1. 1. 1. 1. 1. 1. 1. 1. 1. 1. 1. 1. 1. 1.\n",
            " 1. 1. 1. 1. 1. 1. 1. 1. 1. 1. 1. 0. 0. 0. 0. 0. 0. 0. 0. 0. 0. 0. 0. 0.\n",
            " 0.]\n"
          ]
        }
      ],
      "source": [
        "print(fish_target)"
      ]
    },
    {
      "cell_type": "markdown",
      "source": [
        "numpy 함수 활용(column_stack, concattenate)\n",
        "\n",
        "2개의 배열을 연결 하는 방식 제공\n",
        "\n",
        "![image.png](data:image/png;base64,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)"
      ],
      "metadata": {
        "id": "j1dgkRpL8nAh"
      }
    },
    {
      "cell_type": "markdown",
      "metadata": {
        "id": "HzJZEB3FyTEh"
      },
      "source": [
        "## 사이킷런으로 훈련 세트와 테스트 세트 나누기"
      ]
    },
    {
      "cell_type": "markdown",
      "source": [
        "train_test_split\n",
        "\n",
        "훈련 세트와 테스트 세트 자동 생성 함수\n",
        "\n",
        "이 함수는 기본적으로 25%를 테스트 세트로 생성\n",
        "\n",
        "![image.png](data:image/png;base64,iVBORw0KGgoAAAANSUhEUgAAAcsAAACDCAYAAADifjDyAAAgAElEQVR4nO3dd3TUVf74/+dkJplMekJCIF0wCb2DEYxUEYQPAoqgoIKw+l3XRSwsyG+V464sussH3Y+rgrroLiJiAxeBQFiKhA4hkFAmIaSR3nsmM5n7+yPO2wzpFZD7OIdzmHe573tnMvN6v29VCSEEkiRJkiQ1yuZmZ0CSJEmSbnUyWEqSJElSM2SwlCRJkqRmyGApSZIkSc2QwVKSJEmSmiGDpSRJkiQ1QwZLSZIkSWqGDJaSJEmS1AwZLCVJkiSpGTJYSpIkSVIzZLCUJEmSpGbIYClJkiRJzZDBUpIkSZKaIYOlJEmSJDVDBktJkiRJaoYMlpIkSb8yiYmJHDt2rM3nR0REMHbs2HbnY/Lkyfzwww/tTqclTp48SXx8fKelL4OlJEnSr8zOnTv505/+1Obz/fz8eOihh9qdjylTphAQENDudFpi7dq1fP/9952WvgyWkiRJt5Dtf9rDlle2oz+S2Kbzr1+/TmZmJqWlpcTFxVFdXU1+fj6pqamYzWaOHTtGTk4OAPn5+ezbt4/du3eTm5urpBEQEMCsWbMAKCwsJCUlBaPRyOnTpzl8+DAVFRUtysuMGTO46667ANDr9VRWVpKdnc3evXu5evWqcpzRaCQuLg6TycSVK1eIjIwkLy/PKi29Xk9paanyuqKigkuXLin7SkpKyMrKQq/Xt+Fda55KCCE6JWXptlD3C6l1tMPDz73daVZXGclPKWjz+d0CPbCzt213Pm4XBdcLMZRXt/q8pLNpbbqeu68rbj1cWnVOWz6Txv4OnL2c8Onj3aq07iT6I4n89K+TVBRV4uCmI2R0L/pPCsUzoGXfzVdffZVNmzZRWVmJt7c3UVFR7Nixg4MHD+Lo6MjmzZs5cOAA+fn5LFy4kODgYEwmEwkJCURGRhIeHs6OHTtYuXIlV65c4fPPP+fzzz8HoKqqioSEBDw9PYmOjsbR0bHJvAwZMoSVK1cyb948goKCmDt3Ll999RVeXl5ER0ezYcMGnn32WbKysujZsyfTpk3j4sWLeHl5ERsby//93//xm9/8BoCgoCA2bNjAlClTADhx4gRTpkyhqKiI++67j+joaLRaLf379ycqKqodn0DDNB2eonRbifj7oZudBekOE3pfbxksmxAa3pvg0XdRll/Bznciidl9kZjdF3Fw03H/0/cQPPoubNSNVwquW7cOPz8/IiIiiIiIULbv27ePp556iqKiIlxdXQkJCWHDhg0sWLAAgPnz57Nt2zbCw8PrpXn48GEiIyOZNGkSFRUV+Pr68uOPPzJ37txWle3s2bPEx8ej1WpZu3Yt7777Ls8++6yy393dncTERGxsbPjxxx+ZNWsWkyZNUp5OGxMVFcXMmTMJCwtj5cqVrcpTS8lgKQEw5cVxQO1dv5NH03eLHUXnao+ttmV/gkaDicriKgAy9dnK9qKsEtx6uDT5VGxrr0HnYt/gvpKcslbmumku3Z265DoWrXkPu0Jz5fzs+W1dlJPbm43aBpfuTjz2l/8hNymfa2dSuXo8iYi/H6KqzMDgqf1anaa9vT3vvvsudnZ2AJw6dQpnZ2fS0tI4f/48MTExjBw5ssFzQ0JCmDRpEgAODg6MHDmSrKysVudh8eLFaLVaAMaOHctf//pXq/2vvfYaNja1NwLTp09n0KBB7Ny5k6VLl7b6Wh3t1vmWSV3OXGNW/h8a3vsm5qR5tloNtj8HosYCUlt0ZFq3wnVutjulnF3BaDBx7VQKZ3ZcIK9Odbart3Ob0gsJCVECJcB3333He++9h6OjI4MHDyYwMLDRc93drW9EbWxsaEsLXt10GkrDx8fH6rWfnx+ZmZkNptXVLYgyWN7ByvJb1kgvSVLXMRpMRP8nlhPbopVt9zw2lAt7LuPo4UDQMP82pavT6ZT/JyUlsWTJEs6ePcuwYcMAWLZsGUVFRe3LfDvp9XruueceoDYYJiQkKG2UNjY2GI1G5diMjIwuzZsMlpIkSTdZxpVsTn4dTeqFXwJA2NxhePf2xPtuL4xVJk5+fY7Jv7+/RelpNBqys7PJy8vDw8Oj3v7CwkIApYPO+fPn2bp1q1LVerOsWLGC7du34+rqyieffEJycjKzZ88GIDAwkG+//ZbJkydTWlrK+vXrrc7VaDSkpKRQWlqKs3Pbnr6bIoPlHczWXn78Utdz93W92Vm4ZSRHp3F0yxmlmtXSiafXqECrtuhT354AwLd/zxalGx4ezltvvYWXlxdJSUn19g8ePJjZs2fTp08fPDw86NWrFy+//DKrVq1izpw5HVCythk9ejR+fn6o1Wp0Oh3ffvst3t61ncHeeOMNZs6cyXfffYeDgwN//vOfWbFihXLutGnTeOGFF9izZw/Jyckdnjc5dOQO9/dH/wnAi98uvsk5ke4Ef3/0n0x5cdwt30be2fJSCznz/Xn0UbVDt8YtvhdXb2cCBvvW6+laWVLFx89s6ZT3LTMzE7VaTffu3ZXX3t7eSieb5pjNZsxmc4P7bGxsWpyOZehIYWEhOp2O7Oxs/P39UalUVsdVV1eTkZFBQEBAi9PuKO1+tCguLmbGjBmcOnWKXbt2cfjwYQwGA2+//XaT57300kt4eXmxatWq9maBWbNmMWfOHJ544olmjz158iTu7u6EhIS0+7qSJEktYa4xk5WQy4WIy+SnFSpPklNeHEe3QI8mx1Ce+jYGz0CPTrnB6NmzZ5Ovm7N161bef//9BvctW7aMefPmtTpPWq220Vl/7OzsCAoKanWaHaHdwXLnzp2kpKRw7do13N3dKS0ttWqEbUxhYaHShbi9cnNzWzyjxNq1azt1LI4kSZJFcnQadg52fPPHH5Vtoff1Zsz8ES3qqGOuMRN/7BoPPF9/7OOtYP78+cyfP7/d6djZ2TF27Fg0mlu3aahdOUtPT0ev1+Pl5UV+fj6enp6MGjXK6rE8PT2dmJgYnJ2dCQsLs+q6DFBaWsrp06dxcXFh+PDh9R67G1JRUUF0dDS2trYMHTq03n6DwcDJkycpKiqib9++BAcHA/WnRAoNDW3yeEmSpLbISy3kyOcnlA47noEejP/NaHoEezU5ocCNbNQ2/ObT5mvMbnceHh4cOnRrT5DSrmD54YcfsmHDBsrLy5k+fTrHjx/nnXfeoaqqig0bNrBx40ZeeeUVBg8eTFpaGmq1mqioKHx9fQGIjo6mf//++Pv7c+bMGebMmcMXX3zR5DVPnz7NjBkzcHNzQ6fTUV1dTU1NjbI/Pj6e8ePHY29vr0yptGbNGpYvX87ixYuJjo7m3LlznDlzhqioqCaPlyRJag39kURlViwHNx3jFt9Lvwkht9TEEVLbtKuFdM2aNaxZs4awsDCSk5Pr1Xf/7//+L+vXr+fo0aMkJyczYMAAduzYoeyPiYnhxIkTHD16lEOHDrFlyxays7NvvIzCbDazaNEinnjiCS5dukR0dDSrVq3iypUryjHr1q1j6tSpJCYmcuLECT744AP+9a9/AbVTIk2ePJkVK1Yocwc2dbwkSVJzKkuqOL/nElte2U7E3w/h4Kbj4VWT+c2nTzB4aj8ZKH8lOvVT7N+/P+vWraOmpoYHHniAnTt3Wu2fNWuWMmODpYo2KytL6Sp8o8TERC5evEhkZKRSXfv444/z+uuvK8esX78eW1tbCgoKiIuLY8+ePZSVNT4FV2uPlyRJgvo9Woc81J8x80fg27+nDJC/Qp36iW7evJnNmzezZcsWfv/73zNixAjWr1/P6NGjAeupj1QqFSqVqskpjLKzs1GpVFbBVKVS4efnp7yOiYlh9erVZGZmMmTIkGZ7d7X2+DtdZUmV1Tyr5hozCcd+GcfVGT32brxmXmqhsppFcz0J28JoMKHW2ChtSzeWsbmJrNvixjKW5JQpc+B2RRnBegWaG8f5SbVunIIu9L7ePLxqMt53ezU6/7D069Bp3waTycSJEydYtGgRv/3tbykpKWHJkiUsXbqUM2fOtCnNwMBAhBBcvXpVGfpRU1NjtS7aggULWLp0KS+99BIqlYodO3awa9euRtNs7fEtYekmXl1RjYefu7IEU89Qb3Su9sqE4E3J1GfTM/SXm4KygnIAZZJzW3sNWkc7Zco6p24O9X7AS3LKlGWSbpxovLrKWO8HuLKkCmOVCag/x6fRYOLHdyJJvZCBg5uOWW9MxTPAndh9Vzj0z+NWx1oC5vk9l/C6q5vVChMZV7JJOJZE4BDfer0B9UcSKcoq4Z45tZ22kqPTiPzwCBVFlYTe15spy8ZhrjGz/U97qCiqBGrbhRZ+8Bi2Wg2VJVWc+jaG8KdHWQW6I/86hVtPF0LG9LL6QTMaTPz3oyjGPhOGzsUec42Zfe//hD4qEQc3HdNenYhPH28SjiVZrc5SN4/6I4n1lpwqySnj3I9xDZYx40o2abEZyvl5qYVKeQIG+TDrjakA7Hwn0mo+0Gc3zUfnYq9MhTZy9mCrz/v8ntp1/W4so6VMljICHN50gpjdFwF4eNVkgob5k3El26qMlvfbkufS3DKrG6HKkioObzrBXcP96908WD7jsc+EKXmwfB8AcpPzAVr8fbD8Dd/s74PRYOLD+bVNNGFzh/HYX/5H3lDcQTrtk1ar1Tz99NMsX76c559/HkdHR/z8/Oot6Nka/v7+TJw4kZdeeolt27Zhb2/P22+/rcwRKISgoKAAJ6faH/qcnBzWr1+P0WhECIFKpbKaEsnJyanZ41urJKfstlxZwTI5QV2LPpyrBM1rp1KUnn0VRZUknkzGM8CdqjKD1TlFWSWA9Q/y/PWz8QxwJy+1UOlCH7P7IuMW36usnnDym3PKXJjevT0JGOyrBEoAfVQiY58JQ3PDj1NFUSXF2aU4uun44uXvqSiqpOB6oRJ0flizV8n3qe9irAKr5fi0uAwWfvAY6RczlSq1iqJKLkRcbnApqYzLWfXyXLeMW17+Xilj2NxhVoHVEpDsnbQMntqPvX8/pJQx9UIGJTllOHVzoKK40uqa5T8fY8lzxuUsHv7/HsRGbWP1Xp/6LoYF62crgdVyg5MWl8GC9bMpzChWjgU4uuVMg0MYKksq6+XZclNgNJiUfOijEkk6m2YVWC2fsb2zlr5jg+t9H87+EFvvereDRR/OZc5b0/G6q5sMknegTvvEVSoVmzZtYuHChbz22muoVCr8/f35+uuv25Xu559/zrx583B3d8fe3p4HHniA4cOHK9d8/fXXef7551m5ciU6nY41a9awZMkSli9fzrp16+pNidTc8a3l1M2BRR+2bI236ioj6RczydTnWG23LM7b0LJTlw8nUJheTM/Q7tg71Y5T7RboQfrFTKrKDPS+J4j8lAKcvWqDXGluWZML9372/DZ6jQxg7KJ7GyyLxY1B0bJ48MjZg3Hr4UJWQi5uPV2U4GfvXJu3gEE+yioJHr6uOLjplODgdVe3euk5uOnwvru2e73lOMt2raMdNmobZr0xVXnfBk3pi2eAO5Ulvzyd9Bv/y4QTQ6cP+KX7foA7ak3t04bW0Q7PAHdSiyoZ9GBfZXtdlmnZgkfXrqWXlVC7knz406OA2qBuyZujm04pY8AgH+WalmMA5TNxcNNZlb0unas9Nmob5v5lBklnU63KaK4xK3n26dtDeXIKHn2XVQC03FDULZNngDtaR+thWwB+P0+f5tPHmykvjqtXxrp5dvepfT9stRolH3Xfpxv5D/Sp93347PltjF0URq+R9Ve4aO770NDycQ19H3qGepN0NtXq+9At0IPqiupmvw9NcermQMH1wgb/VqRfv06f7s5kMpGWloatrS2+vr5telprSH5+PiqVqsFJgouKiiguLiYgIACVSkV+fj5OTk6NToLQ2uN/LSxPwXWr3BpjqXZLi8tg0IN961UDNiQ5Oq3e9F2VJVVkX83Fw8+9XlXv+T2XrKoRLfNmOrjaE74wrNl2u8qSKsqLKusdZxkYfuMTgdFg4tKBeCXAGw0mjm05ozwRDpsxsNkniKbK6OTpVC8vGVeycfdxVcqYcSWbg58cA2D8b0Y3uyiypUrzxuMyrtS2b95YRkt7q6UK1Vxj5vT35zmxLZohD/Vn1KNDmm1ry0stxNFNV696N/V8eqNldPJwbHC5rtt5uru6tRFhc4fRd2ywXJLsDnJLzg07c+bMBrcvXLiw0X1S67UmWEpSR9j+pz30Gx9yWwZL+OUG69rp2mYJz0APBkwKlWMp7wC35Kdbdyym1PlkLz6pq+hcdM0fdAuz1WoYPLUfg6f2o7Kkigt7L3Pon8c59M/jhM0dRu97gvDwde3w3tLSzXdLBkupa/UI9rrZWZCk247OxZ575gxl0IN9ubD3Mie2RSsdvsLmDsN/oE+z1erS7UMGS0mSpHawBM1hMwZy6UA8mfocJXh6Bnpwd1iQ0iNaun3JYClJktQB6lbRWjpinfw6WnniDBjkw9DpA1q02khdRoNJtofeAmTFuiRJUgezUdvg08ebWW9MZf762YTNHUZeaiE//GUfEe8doiSnZVNqVpZU8eH8f7X4eKnzyNsVSZKkTuQZ4I5ngDuDHuxL/NFrHPrncfRRiXgGejBi5iCcvZwaXbpL52JPwCAf/rvhiDLRhnRzyCfLO1jdSQckSepcOhd7Bk/tx++3LWLOW9Pp5u9OxN8P8c0ff+T9uZ9xeNMJZbxsXeELw0i9kNHgvsYkJiZy7NixDsn3yZMniY+Pb/a44uJi/Pz8yMnJafbYjrBr1y4KCgqaP7CDyGB5B5Pd2yWp61mqaKcsG8ect6Yz5cVxOLjpiNl9kW/++COHN53AXGNWjrfMCnXwk2MYDaYWXWPnzp386U9/6pD8rl27lu+//77Z4+zs7Jg3bx729l0zFG3+/PktCuIdRf5aSpIk3SQ+fbwJDe/Nwg8e4+FVkwkY5EPM7ou8P/cztv9pD8nRaUDtFI55KQVcOtB8cLh+/TqZmZmUlpYSFxdHdXW1si8jI4PIyMgG1w2Oi4tj586dnDt3Tln9Sa/XU1JSQlZWFnq9vsnr2tnZsXDhQnQ6nXJuZWUl2dnZ7N2712rBC6PRSFxcHCaTiStXrhAZGVlv3nC9Xk9paanyuqKigkuXLlFdXU1cXBw1NTUkJiZy/fr1Zt+TDiGkO9p7j3wqrvx09WZnQ7pD7Hn3oPx7a0ZFcaW48tNV8fHiLeK9Rz4V7z3yqTjxdbQ49uUZ8d4jn4qK4somz3/llVeEu7u7sLe3F4GBgSItLU0IIcQbb7whunXrJsLDw4WLi4tYtWqVMJvNQgghFixYIDw8PMR9990nXF1dxdSpU4XRaBRjxowROp1OuLm5iTFjxjR53cLCQgGIzMxMIYQQgYGB4g9/+IMICAgQw4cPFyqVSmzcuFEIIURmZqYAxLRp00RQUJAYOXKksLe3Fx9//LGSXmBgoNizZ4/y+vjx48LV1VWkpaWJwMBAoVKpRI8ePcQrr7zS+je5DWQHH0mSpFuIzsWe0PDehIb35vyeS8Tt1yuTHUDtij5NTU+5bt06/Pz8iIiIICIiAoCIiAg+++wzLl++jJeXF9evX2f48OE88MADhISE8MUXX6DX6wkJCaGwsJARI0YQGxtLVFQUM2fOJCwsjJUrV7a6LGfPniU+Ph6tVsvatWt59913efbZZ5X97u7uJCYmYmNjw48//sisWbOYNGkSd911V6Np+vn5kZycjJubG9u3bycsLKzV+WoLWQ17B6u7UkdXqK40dvjyTCnnrhMbeaVD0urI/HVGWRty6WACKTHW1VDnIy6RFpthte3amVSyExtfHq8sv5wzOy6QFptB0tk0ov8Ta7Xqi3Rz9JsQwoBJofW2t7Tt0mLbtm2MGjWK8+fPs3//fq5cucKoUaP4+uuv6datG97e3vzud7/jq6++wmQykZiYyNCh7Z9IYfHixcqCFGPHjiUrK8tq/2uvvYaNTW0Ymj59OoMGDWLnzp3tvm5nkE+WdzDLwrZdJftqLlGbTzF4aj80duoOSTPywyM4ujsw8IE+7U6rI/PXGWVtSOqFdOydtQQO8QOgMKOYQ58eZ9iMgfgP9FGOi/4hlh6h3a2WDLOIP3qNyA+P4OLlhFegB6ZqExf2XubkN+d4cOk4eo0M6LT8S/VZVorJSsi1WnptzlvT2zx9Xnp6Onq9vl6wGjhwIFqtltOnT/Ppp5/y5ptv8uSTTzJt2jQ2btyIt3f7putzd/9lRRobGxulLdTCx8fH6rWfnx+ZmZkNpnXjuV1NBkupSxRcL1LWSszUZ2Ons8Xd1w07XevXFaxr5utTcPFq/zJJLc6fAOqsMpeXUkBydBo2aht8+/XA+26vdpW1ofSaotbYYKrzlOHW04W5b8+g+8/rZRqrjGQn5lFRUkV5fjmZ+mzsne2VtSkLrhex9/8Oc+/jwxkxc5CSzt1hQfz0+Ul2rz/A0+8/irOnXIqqq2z9ww/kpdQOiRi3+F6qygwtWi6uKb179yY0NJT3339f2Xbp0iXUajW5ubmkpqby5ptv8uabb5KcnMyUKVP429/+1qY1fVtDr9dzzz33ALXBMCEhgSlTpgC1wdVoNCrHZmRkNJhGV5HB8g7WleMsv1u9m4ri2mq979/cA8DQ6f0JmzucU9/FoHO2Z9CUvhjKq8lNysfeWUvPkO5AbZVTTmIezp6OuHR3tkrXbKohJzEPvwE9lW3VlUYSTyZTXWWk14hAnD2tFwxuTf7uXxiGoaKa/26I4trpVGxsVIx+YgRDpvUn6WwaP/51P379e6DR2lJZUoX33V5NptWUxtIzVhmJ2x9PdUU1Ohd7eo0MwKlbbZlsNGqMlb/8oKhUKsrzKyh10uLaw4XLh68q62UWphdx5UgiNmobfvPpE9g7azm36yL+A32sAqUlnfsX3kP6xSwuRFxmzIKRzb6HUse4OyyIMfNH4Nu/Z5sDpEajITs7m7y8PDw8PHjqqaeYOnUqTz75JKNGjSIhIYHw8HA++eQTBgwYwLhx4zh8+DD33nsv3bt3x93dHRcXFyWtlJQUSktLcXZ2bubKrbNixQq2b9+Oq6srn3zyCcnJycyePRuAwMBAvv32WyZPnkxpaSnr16+vV8arV68yZMiQLhmuIoPlHawrx1ku/ngeiSdT2P3uAf7fv55EmAVaRzuMVSbK8sqJ+TGOK0euUpBWhBCCniHdmfPWdLISctn5diRCCKorjfS5vzeTfhuupBuz6yLlhRVKsKwoqmTrih+oLK7EbBYc33qWx/86E1fvpr/kjeUP4PiXZynNK2f26qmU5JSy/6Mo+k0IIS7yCv3GBTPxt/e1OK2mNJZewvFkjn5xim4B7pTklnFk8ynm/+8s3Hq4oNbYUHFD+9Xhz04w4IFQRj0yhEEP9qX/hBC+WvEDd40IYPjDg7DR2Cg/wpn6bPref3eD+VGpVAQM8SVT3zWDzKVaHTHpenh4OG+99RZeXl4kJSVx77338vbbbzNx4kQ0Gg1lZWW8/PLLzJo1C5VKxVtvvcWkSZOws7OjvLycCRMm8Pvf/x6AadOm8cILL7Bnzx6Sk5Pbnbe6Ro8ejZ+fH2q1Gp1Ox7fffqtU/b7xxhvMnDmT7777DgcHB/785z+zYsUK5dzZs2ezaNEi9u/fz+eff96h+WqI7OBzB+vKDj42ahu0TloQoLFVo1JBfloRdjpbpiwbh/fdXhjKDMx47QFe2LqQOW9Np8ZkZvf6A/QaEcDijfMY90wYlw4kWFU7qmxsqNuUcelQAkIIntk4j+c+W4CDqw59VGKb8we17YL9xwfj08cbnYs9ZpMZGxsV9s72XL+UScLxJHKu5SPMotm0mtJYejWmGnQu9jz+15ks3jAPRzcdcT93arJR28ANbTkqG1VtdfHP1LZq7BzsEAK0jnYUpBVSY6wBaqtp1U20qdrZazAajI3ul25NgwcPJisrCyEEQUFBAPy///f/KCoqIjo6msLCQt555x1Uqto2hRUrVpCXl8fp06fJyspi7969SnvjokWLKC8vJzk5GbPZjMlkavCfi4sLQgh69OgBoFTnWoSFhVFUZP09+MMf/kBBQQFxcXFkZWXx0EMPKfvGjx9Pbm6usu+5556zOv/jjz/GaDR2SaAE+WR5R+vqDj52DrVtdiZjDZcOXiVu/xWefO8RZX+/CSFKRxWA3Gt5lBdUEL7wHtS2akpyyxBCkJdWSI+f2/JsNNb3e+UFFfj08cbBtXZgdM9Qb6pKDe3KX3WVkUObTnDon8dRqW0YPX8EGq2GMQtG8NPnJzn+VTSluaX49O3BrNentKisDWksPcsPGoBGq8GluzOG8tqB5mqNjVUbqrLtxrLpbKkx1n7e2/8UwcTf3kfwvXfh1tOVwvTiRvNUmFGCaw+XZt456XahVqsbHZbh4OBAcHBwk+dv3brVqt2zrmXLljFv3rxW50mr1RIQ0HAnMjs7OyXY32wyWEpdRvtzB5f0S1lkJ+aitv3liUaYBWqN9ROOxt4Wc42ZzCvZVJZWcX7PJZw9HdEfSfwlWNpYRwobtcoquKhtrTvAtCV/ngEeOHs6MuCBPrh2d6a8sAIAB1cdE58bgxBw+VACR/59CmEWqGxUTZa1MY2lhwrMZkHB9SKSzqZxPS6TYTMG1pZXo+bGaKm64T0BsHOwI+daPjnX8jFUVivvdXBYEIc/P8nAB/viGeBudU5WQi4Jx64xZdn4Fr1/0q/f/PnzmT9/frvTsbOzY+zYsWg0t08Iun1yKt32XHu44NbThZ1vRwK1q8lb2NprsHfWWh3v6e9On/vvZsdf9uLgqmPc4ntxcNXxn7cjCXtsKFpHLQ5uOuUpC2qDgm2d1/ZO2hY/WTaWv7B5w9jx571cO5OKyWDC0d2Bp/7vUcoLKtj0222Ya8yobFSMmDlICVRNlbUxjaWnUqmoKKpk87Lv0NipGTq9P0FDa5/AHdzs0RVav28ObjocXK07PAQN9WPfP35i6x92YO+sxadvbbtQ/0mhXDmSyLbX/sOY+SMYMvnjflsAACAASURBVLU/Qgii/xPL8W3RBA715+6wW+POXvr18PDw4NChQzc7G62iEjd78Ip005TklPHZ89uY8uI4QsN7d8k1a4w1pF/ORueixSuom7K9utKIrb3G6qlQIUAglH1VpQbrwFpnOIe5xlz7lPrzk1yNsQazWbS4V2Fj+TOUV1OYXoTaVl27/efrVZUZqCo14OCmqzc0pLG0mtJQepcPJXDkX7Wdeuxd7OtXs94wnEUI0eD7WJxdSmF6ET1Du6N1/OX9MxlMHP78JJcPJTD+N6MxlFdzfOsZBk7uy5gFIxus1m2riPcOcddw/y77e5OkjiKfLKUupbZVEzDIp972JscgqkBVJxrc+ARaN1DYqG2gTo2n2latvIyNvEJJThnCbMZcIzCbzYgaQciYXvj269Fk/rSOdvT4eShLXfZOWuydtPW2N5SW0WDi3M5YjFUmzGah5AMVjHh4EE7dHBtMT6PVUGOqwdGjkaE+N8TFBm84AFdv5wZ7BWu0GiY+N4bwp0ahtlUjzIIBk0LbPQZWkn5NZLCU7hj5KYUUZ5coVZuoVNjYqJSeoZ2tprqGnGv51BhravPwcz7UturaoNkIO3vbLumMZR0cO2/WIUm6HclgKd0xxi2596Ze395Zy/Q/TGr1ed3v9mTUnCGdkCNJklpKjrOUpFucztmesMea7yAkSVLnkcFSkiRJkpohg6UkSZIkNUMGS0lqgdaOsDIaTK1ec1CSpFuX7OAjSU3478ajXNyvBxW49XRl9htTlBU/Tn9/niHT+jc4hvO/H0Xh6OFA+FOjujrLkiR1AhksJakJ9zw6hD4/D6CvLK1C9/Ocs0IIjn15hoBBPvXWnBRmQfK56zzwfHi99CRJuj3JYClJjTBUVHPlSCJleeVUV1YjzIKqMgMDJoYqA/9N1fXHaOZcy8NQbuDUd+eoKKkk9L7ecoC/JN3mZJulJDWiNLeMxFMpFGWVYP55uSzTDZMD6I8kcmb7eVLPpyvbcq7l43VXN/pPCOXC3st8suRLIj84QnWlXOpKkm5X8slSkhrhGejB3L/8D6nn00mLzaDXyAB6htZOQG6uMQOQn1ZIWUE5qFQEDPYFIDc5nx53ezFoSl8GTelLVkIuiadSWt1JSJKkW4cMlpLUhGtnUjmw8Si+/Xrwn7cjee6zBQDKFHmTng/H3cfV6pzi7FKrdTl7BHvRI9i6XVOSpNuLDJaS1ITLBxMIva8Xdjo78lIKlO2WZcEaaouc9NtwdC729bZLknT7ksHyDubUrZFVLCSF/0AfDn56DK+7uvHQKxOU7ULULtZcNyie/SGWU9+eq135pO6SWTWits1TCDR2Gp76v0frr5wiSdItTQbLO5iNWvbvas6gKX3pPzGkdukqIci+mkt5YQU2ahtmr55q9R4OnNyHHiFemKpM1JjMFGUWE/XFaWa8NhmNrRq1rQ12OjsZKKVOl5iYSHZ2NqNHj27T+REREaxdu5bDhw/f1Hy018mTJ3F3dyckJKTdaclgKUnNsCwkHX/0GpEfHMGpmyM11SbKCiuYu+Z/lHUu7XS2+PbtoZyXcSUbgKChfvUTlaRG5ObmUlBQSFBQIFpt226sdu7cSUREBBEREW0638/Pj4ceeqhN53ZkPtpr7dq1hIWFsXLlynanJR8tJKmFSnLKCBjky8J/zGHxx4/j4KqjstTQ6PFCiEYXYpakxpw6dZozZ86wa9cuzpw5S1FRUavOv379OpmZmZSWlhIXF0d1dTX5+fmkpqZiNps5duwYOTk5AOTn57Nv3z52795Nbm6ukkZAQACzZs0CoLCwkJSUFIxGI6dPn+bw4cNUVFS0KR8ABoOBn376if/85z8kJCQox1dVVXH58mUALl++zJUrV5R9GRkZREZG/nwjUUBqaqqyTwjBlStXOHjwIOXl5cp2vV5PSUkJWVlZ6PX6Vr2HDZFPlpLUQsJsRq355f6yxmhGY9f4IskOrjp0rrKjj9Q6Dz00lby8POLj49Hr9ej1etzc3Bg6dAjdu3dHo2n6Z/u9995j06ZNVFZWMn36dKKiotixYwcHDx7E0dGRzZs3c+DAAX766ScWLlxIcHAwJpOJhIQEIiMjCQ8P58CBA6xcuZIrV67www8/8PnnnwO1AS0hIQFPT0+io6NxdHRsVT4qKioYP3489vb2eHl5ER0dzZo1a1i+fDlXr15l3LhxvPPOOyxZsoTVq1fzxhtvsGzZMj777DMGDx5MYmIi999/PzU1NXz77beUlZXx+OOPExsbi4+PD+fPn2fbtm1Mnz6dxYsXEx0dzblz5zhz5gxRUVHt+lxksJSkFtI6arl2JpVPlnyJsdJIjclcb9hIXe4+rizZ+HgX5lD6NVCpVHh5eeHl5UVISAgXLsSSlZXFwYOHAJg8+QG8vBofirRu3Tr8/PzqVX/u27ePp556iqKiIlxdXQkJCWHDhg0sWFA7HGr+/Pls27aN8PD60zQePnyYyMhIJk2aREVFBb6+vvz444/MnTu3Vfl49tlnmTp1Kp9++ikAn3zyCX//+99Zvnw5ACUlJXz55ZckJSURGBjIDz/8wNatW7l06RL+/v6kp6czbNgwJY9vvfUWAAkJCdja2rJv3z4effRR0tPTiYqKYubMmR1WDSuDpSS10OAp/QgY7EtNdQ2owNnLCa2DXdMnyVpYqR3c3d3p27cP9vZakpNTAMjKym4yWDbG3t6ed999Fzu72r/ZU6dO4ezsTFpaGufPnycmJoaRI0c2eG5ISAiTJk0CwMHBgZEjR5KVldXqPKxfvx5bW1sKCgqIi4tjz549lJWVKfuNRiPr1q0jKCgIgG+++YbHHnsMf39/AHx9fZkzZ45y7W3btvHMM88oHZFsbGxwc3Njz549PPbYY63OX1NksJSkllLR5JOkJHUUk8lETMx5q7Y2Dw8PCgoK6Nu3T5vSDAkJUQIlwHfffcd7772Ho6MjgwcPJjAwsNFz3d3drV7b2Ni0aUaqmJgYVq9eTWZmJkOGDKFnz571junXr5/y/+zs7Ho9WT08PMjKykIIQXp6Ot988w179+5V9gcEBHRKXwEZLCVJ6lJZCbmE/rySi/SL3NxcsrKyKSkpVp4ie/ToQe/evfD29mbPnj0MGjSo2TbLxuh0OuX/SUlJLFmyhLNnzzJs2DAAli1b1urORK21YMECli5dyksvvYRKpWLHjh3s2rVL2a9Wq616APv7+9frnHPhwgU0Gg0qlYrevXuzevVqHnnkEWX/0aNHCQ4O7vC8y96wkiR1qcqSqpudhVuGEILk5GS+//579u2L5MKFCxQVFTNixAieeOJxJk6cQFBQENnZ2VRWVuHv37JhSBqNhuzsbPLy8jCbzfX2FxYWAigddM6fP8/WrVsxGjt2sv+6+aipqaGgoAAnJycAcnJyWL9+PUajsdGn1EWLFvH999+ze/duDAYDX375pdVT5NNPP82aNWvIzMzEbDazfft2JkyYQE1NjXL9lJQUSktL210WGSwlks6m3ewsSNIdJzc3l+3bt3P06DEqK6vo0aMHkyc/wLRpDxEaGqJUJQohiI6OJigoEDc3txalHR4eTmZmJl5eXlbDLCwGDx7M7Nmz6dOnD926dWPJkiW8/PLLfPXVV+zYsaPDylg3H2lpabz++us8//zzdOvWjaFDh/LMM8+QnZ2tdPC50f33388//vEPlixZgpOTEx988AHPPfecUp380ksvMXLkSAIDA3F3d2fx4sX8+9//Vqp3p02bxr///W8GDhzY7rKohFwK4Y7290f/Seh9vZmybNzNzop0B4h4r7ZH553492YymTAYDFy/ns7Vq1cpKirCzc0NNzdXRo8e3Wg7W3JyMtHR0cyYMaPNVbCNyczMRK1W0717d+W1t7c3NjYte44ym80NPrlCbbtmQ+kUFRVRXFystC3m5+fj5OTU4AQMWVlZlJaWEhwcjMFgQKvVsnjxYrp3787atWuV46qqqsjIyMDPz8+qXbYjtfudLy4uZsaMGZw6dYpdu3Zx+PBhDAYDb7/9dpPnvfTSS3h5ebFq1apWX3PXrl3ce++9eHh4tDXbbVZcXMzhw4eZMWNGl19bkqTbi+VZJC7uIgkJ8VRW1lZBBwUFMmrUSDw9PZvsjGJ5quzff0CHB0qgXgebhjrcNGXr1q28//77De5btmwZ8+bNq7e99gbhlyfkbt26NZp+bGws8+bN48svv2To0KEcOnSIbdu2ceLECavj7O3t6dWrV6vy3lrtfvd37txJSkoK165dw93dndLS0hbVexcWFrZ5Kqf58+cTERFBWFhYm85vj6SkJB577DGqqmS7iyRJDRNCUFxczIEDBwCorKwiKCgQX19f/Pz8Whz4VCoV4eHh9Xqj3irmz5/P/PnzOy39Bx54gL/97W+8/vrr5OTk0Lt3b7Zv386AAQM67ZqNaVewTE9PR6/X4+XlRX5+Pp6enowaNcrqsTw9PZ2YmBicnZ0JCwur94hcWlrK6dOncXFxYfjw4U3eZVVXVxMfH09NTQ2JiYn4+fnh51fb4J2fn8/Zs2cxmUyMHDlSGYeUmpqKo6MjDg4OHDlyhEmTJmFjY0N1dTXnzp1DrVYzZMgQrl69SlBQEPb29sq1YmJiABg2bBgajYbCwkKuXr2K2WwmLi4OX1/fW/aPWJKkrmcymbh+/TqJidfIyspCp7Onf/8B+Pn5NjnbTVPaMqby1+SZZ57hmWeeudnZaF+w/PDDD9mwYQPl5eVMnz6d48eP884771BVVcWGDRvYuHEjr7zyCoMHDyYtLQ21Wk1UVBS+vrUrytdWL/TH39+fM2fOMGfOHL744otGr5eTk8P06dMpLy/n1VdfZf78+axbt45vv/220WmbXn75ZYYNG8aWLVvQ6/VUVVURFxfHlClTcHd3R6PR4O/vz/Hjxzl8+DADBgxAr9czc+ZMdDod1dXVlJSUcPDgQc6dO8fSpUsxGo1Mnz6ddevW8eijj7bnLbypjAbTzc6CdAdy9/31jVW1BMno6Girzjp3eqD7VRHt9NFHH4mxY8cqr1988UXx3HPPCSGECA4OFhs3bhRCCFFTUyOmT58u/vGPfwghhHj66aeFl5eXSE9PF0IIcezYMQGIrKysZq/p6uoqjh8/rrwODg4WmzdvVl4/8cQT4ne/+50QQohHHnlEuLq6is8++0xUVVUJs9ksBg8eLFasWCHMZrMQQog//vGPAhCxsbHCbDaLsLAw8fbbbwshhDCbzWLVqlVKGc+dOye0Wm3b3qxbTHF2qXjvkU/FnncP3uysSHeIPe8eFFd+unqzs9FhcnJyxP79/xVffLFFfPHFFvHjj7tEUlLSzc6W1Ak6dVKC/v37s27dOmpqanjggQfYuXOn1f5Zs2bh4+MDoFTRZmVl4e3t3arrNDdt09ixY1m4cCFQO4fg+fPniYyMVKp8X3zxRWWOwdTUVE6cOMFrr73G/v37ARgyZAh/+ctfyM7ObtsbIUnSr4blKfLixUsUFRXRo0cPxowZ3aq2SOn206mf7ObNm9m8eTNbtmzh97//PSNGjGD9+vXKQqB12/tUKhUqlapNUyg1N21T3cbg7OxsVCqVVQ8sNzc3JXCmp6cD8Ne//tUqjTFjxnTIwNZfGyGEslxPcXGxcvPTmQwGAyaTiYqKClxcXNrcUaw1LEv/dFUZLcMMLJ3lWjq+rj3qlrFnz55yebEb1J2CztIW2bt3Lxkg7xCd9imbTCZOnDjBokWL+O1vf0tJSQlLlixh6dKlnDlzpsOu05Jpm+pO8+Tv748QgqtXrypzDsbFxSlBunfv2mm4fvjhByWgVlVVERUVRWBgIBcvXmxRviw/6BYVFRVW3cQtY4bqHqvRaNBqtZhMJgoLC/H09FTWgFOr1dTU1GBnZ0d1dXWLA0TdfFjSt2xvDSGE0v3d29ubESNGoNVqSUlJ4ejRY8px48ePU4JJbm5uvWBmMBhITk7B27t7vQBgWU/P0s5TXl7OiRMnKS4uIjg4hIEDa2969u//r/L5urm58dBDU5UbrZSUFGUSZgu9Ph6t1o7AwECrACCEID4+gZCQYGV7bGwcCQnxuLq6ERZ2D46OjuTm5rJvX6Ry3pgxo5Vr5Obm4uDgYNV5w2AwEB+fQLduHvUCa3l5ORUVFVZljImJITk5hUGDBill3Lt3n1JGnc5eGWPXUJ6hdiwe1Hb9v/FvQ6+Pt/pRt4zb02rtGTduLI6OjpSXl7Njxw/KOSNGjCA0NEQpT0lJiVX7myUfzs5O9cpo+Ywt51u2mUwmamxMGEwGcnNzW/V9KCsrw9XVtdO+D5brNUWtrl2Obfz4cS1aKkv6dem0T1utVvP000+zfPlynn/+eRwdHfHz8yMvL6/daWs0Gq5evcqQIUManbbJMkP+jQIDA5kwYQLLly9n06ZNGAwGXnrpJeWL4O3tzYMPPsirr77Khg0bAHj99dfZu3cv58+fR6PRYDQauXbtGv7+/tja2lqlf+OPzq3Oc5aOfDLYsuXLevtmznxYeV9TUlK4cOECAMnJKbi4uDJw4ADy8vKtzklKSsLHxwe9Pp4zZ86g09kzbdo0tFotBoOBXbt2KWPN6naAqBuQLNsPHTqsBIwLFy4oE0jXvRGyDHDW6XRERR39eRBzmRJ0YmPjlHwnJl5jwoTxSmA9cOAgWVlZXL9+nQkTxpOXl6ccW1mZxeXLVxgxYjhZWdbV74mJ1wgKClLy3JFl7NXrLhwcHDAYfhmaVFlZRU5ODj179lTynJeXy5gxY+qVsW5ehBAcO3aM5OQUpYwVFRXKzU1lZRUnTpxk4sQJFBcXW5Xx4sU4QkNDGsyzyWSyCuZ1g3xRUREHDhxQyu/n52v9fegGRRk5xGZw25k582FGjBh+s7Mh3SSdFixVKhWbNm1i4cKFvPbaa6hUKvz9/fn666/bnfbs2bNZtGgR+/fv55///KcybZOHhwe9evXi5ZdfZtWqVcyZM6fB87/44gsWLVqEr68vzs7OLF++nOjoaGVYy6effsr8+fNxcXFBrVYTEBDAN998o0zcO2jQIO6++26lfHVptVrGjBndbBnc3NwoKipSqn0tcz/qdPZKm62npxfe3t2VgFxRUUF8fDxFRcW4uf3SozAkJISUlFSKi4vp3bsX6enp+Pr6YjBUU1paiqdnN9zc3LC1tcVoNCo/cpXFVRz88DjmSsGij+qvS+fg4KD8v7S0rN5+gCFDBis/7FVVBqWKPS8vt8Hj6yooKFQCyY0BSQjR4KTOGo2GMWNGk56eTlFRMaNGjcTNzQ2DwUBxcdOTQBcXF1FTU4NGo6G6urre8XVXWQeUp44BA/pTUlKslHHChPH18mwymdBqtcpNl0Xd5ZQKCgqV7Zbq1bpB0VI+lUpFWFgYSUlJFBXVznTi4+NjVcaqKgNCCFQqFc7OTg2Wt6amRmlnr6qqorq6ut4K9/b2tWXs2bMnoaGhGAxVFBUVM2nSxHp5trixjHVrKYxGoxIoLU98db8P5yMu0/0uD3qGWvdL6OjvQ3x8PFVVBuX74OlZ+xk09X0AlGFmDbGzs+P7778nODiEkJDgLqn+l24dnT7dnclkIi0tDVtbW3x9fVvUDlK3+vJGjVV9tGbapujoaEJDQ7G1tUWj0ZCenk5AQAAVFRVWVbZFRUWUlJTg5+fX4umfbiclOWV89vw2AF78dnGTx5aXlytPQT169GDs2PubrIYSQnD2bDQDBw6w+lGxrKzQUBWlXh9vVT1b9+l02LBh9apXb1RUVER2do5V9R/UPnk5OzvVq6I0GAzExsYxfPgwVCqV1RNTS8poyWNQUGC9dBurhtXr4/HwcFcCaHJysvKkV7fqszENVXFa0tVq7erNjtJQGQ8f/omsrCzc3NyYNGlisz/6en18vXGClnQ9PbvVq96+sYx1Rbx3iLuG+9+Wq45Yqp4vXoxThof07dtHVsneIW7JuWHHjx9PZWVlve1OTk5KD9X2uO++++jbty8rVqxApVKxdOlSnJ2d+eqrr9qd9u2kNcHSoiVtOx3JZDKhVqu7tLNJV5fR8hX8NZfRIuK9Q4x+YgQu3Rt+Gr5dWG6ILFPYDRo0iF697mrzxAPSre+WvB06ePBgp6b/1VdfsXLlSh588EEcHR0ZP348f/7znzv1mr8WXf0DezN+0Lv6mjej16l8EmofrVbLwIEDGDCgv/K0eeHCBXr06IGrq2u9GhXp9ndHfmP8/PyanClIkiSpJVQqFaGhtW2YKSkpREdHk5WVpQwvGTZsGF5eXvKJ81fgjgyWkiRJHUmlUhEUFERQUJAy1ObChViOHj2GTmdPQEAggYEByhSb0u1HfmqSJEkdSKvV4uXlxcSJE5SOUHq9XnnanDBhQosnmbBMhDBkyGAZZG8y+e5LkiR1Eq1Wy4gRwxk+fJgygceuXbtxc3Nj6NAhuLq6NltFm5qaorSRSjePDJaSJEmdzFJNGxgYSEpKChcvXuLgwUNA7UQSwcEh+Pv71Xvi1Gg0hIeHs29fpBzbeZP9+gYPSpIk3aIsQXPatIeYOfNhgoJq57G+cOECu3bt5vvvv683GYe7uzs6nT3x8Qktvk5iYiLHjh1r/sAWOHnyJPHx8R1+bGfozOvLJ0sJAP2RxC6/ptbRDg+/jl88+3YfwyfdGRwdHZUpCzMyMjh3LoaioiJ27dpNaGgogYEBeHp6otFoCAgI5MKFCw1OdNGQnTt3EhERQURERLvzuXbtWsLCwli5cmWHHtsZOvP6MljewWztf/n4I/5+6CbmpHM5uOnwH9D4D0xlSSWpF27DyUq7UOh9HTPjTlqcfJ8b4uPjo0xpGB+fQGpqKnq9Hqide7dPn1Cys7M5dy6m2XbO69evk5mZSWlpKXFxcYSEhChTeWZkZHDx4kUGDRpUbynEuLg4kpKS8PPzY8iQIahUKvR6PSUlJcpwmNDQ0Eav29ixBoOBkydPUlRURN++fQkODgZqp2BMSkqib9++XL58GZVKRZ8+fTCbzej1erKzsxk5ciQFBQU4ODgoC1sIIdDr9WRmZjJq1CjlvWhNXtvilpzBR+o6lunHmlJVZiBTn9Nh1+wZ2h17p19X24uzlxNOHr/8gFVXGclPKWhzekVZJRSm/zK5+V3D/etta4mufK9vfA8a49TNARu1bAFqjuUp06JHjx5kZWVZrXrTkFdffZVNmzZRWVmJt7c3UVFR+Pn5sXr1aj744AP69evH+fPneeGFF3jrrbdQqVQ8+eST7N69m379+hEbG8vo0aP5z3/+w7hx435eoUZL//79iYqKavS69913X71j4+PjGT9+PPb29nh5eREdHc2aNWtYvnw5cXFxjBs3jnfeeYclS5awevVqXnzxRWbMmEFiYiKBgYEUFtbOHz137lxeeOEFysrKePzxx4mNjcXHx4fz58+zbds2pk+f3uD1O1QXLjQtSZIktVJBQYGIiNgrvvxyq/jiiy3iu+++E2azuclz3n33XfHggw8qr/fs2SP8/f1FTk6OEEKItLQ00b17d3Hw4EGRnp4uAKHX65Xr9erVS0RHRwshhHj44YfF2rVrW5TXG4/9zW9+IxYvXqy8/vjjj0X//v2FEELExsYKW1tbMWHCBJGUlCTMZrN48cUXxdixY0VlZaUQQoj9+/cLQLz//vtCCCFWrFghpk+fLqqrq4UQQuzdu1c4OzuLkpKSVue1tWQ1rCRJ0i1GCEFxcTEXL14kOTkFgKCgQHx9fdu0MPe2bdsYNWoU58+fV7aNGjWKr7/+mnfffRdvb29+97vfsXjxYiZOnEhiYsf0YVi/fj22trYUFBQQFxfHnj17KCv7ZQUjo9HIunXrlCflb775hvfeew97e3sAJk6cSP/+/a3K8cwzz3D48GEAbGxscHNzY8+ePTz22GMdkufGyGApSZJ0C9Hr45WVTQBl2rwbV3dpjfT0dPR6PVlZWVbbBw4ciFar5fTp03z66ae8+eabPPnkk0ybNo2NGzfWa9dsrZiYGFavXk1mZiZDhgyhZ8+e9Y7p168fUHuDkJ2drawcZeHh4aHsT09P55tvvmHv3r3K/oCAgC6ZX1kGS0mSpFvI1atX0WrbHyDr6t27N6Ghobz//vvKtkuXLqFWq8nNzSU1NZU333yTN998k+TkZKZMmcLf/vY31q1b167rLliwgKVLl/LSSy+hUqnYsWMHu3btUvar1Wpl7KhlzWO9Xs/YsWOB2jVRL1++rOzv3bs3q1ev5pFHHlHSOHr0qNJpqDPJVnZJkqRbyEMPTWXatIcICgpqc6DUaDRkZ2eTl5eH2WzmqaeeYvPmzZw6dQqAhIQEwsPDuXjxIoWFhYwbN45jx44hhKB79+64u7vj4uKipJWSkkJpaWmLrms5VghBQUEBTk61Q7lycnJYv349RqNRWZbuRs888wzvvPMOer2e0tJSVq5caTXu9Omnn2bNmjVkZmZiNpvZvn07EyZMoKamptV5bbVOaQmVJEmSbpqYmBjh7e0tAJGUlCSEEOKjjz4STk5Ows3NTWg0GvGHP/xB6Sj09ttvC51OJ1xdXYVGoxGTJ08WBQUFQgghNm3aJBwcHERgYGCz173x2L/+9a9CrVYLd3d34ePjIz777DOhVqvFK6+8ImJjY4VarbY632AwiBdeeEG4uLgIR0dH8cQTT4ipU6eKjRs3CiGEqKqqEs8++6ywtbUVLi4uwt3dXXz11VeNXr8jyaEjkiRJd4iamhpSU1Px8vJSnvgsKioqSE9Px8PDQxnT2BGKioooLi5W2hbz8/NxcnJqcOq+hIQEnJ2d6d69OyaTCVtbW4KDg/nggw948MEHleOqqqrIyMjAz89PGUPa2WSwlCRJklrEbDZjNpsb3GdjY4ONTfta9v74xz8SGRnJRx99RM+ePfnoo4/417/+hV6vV3rI3iyyg48kSZLUIlu3brXqJFTXsmXLmDdvXrvSf/311zGZTCxYsACj0ciQIUPYv3//dSeJmQAAAHxJREFUTQ+UIJ8sJUmSJKlZsjesJEmSJDVDBktJkiRJaoYMlpIkSZLUDBksJUmSJKkZMlhKkiRJUjNksJQkSZKkZshgKUmSJEnNkMFSkiRJkpohg6UkSZIkNUMGS0mSJElqhgyWkiRJktQMGSwlSZIkqRkyWEqSJElSM/5/fSIqSZK66ZYAAAAASUVORK5CYII=)"
      ],
      "metadata": {
        "id": "GnXlHIAM9ZYG"
      }
    },
    {
      "cell_type": "code",
      "execution_count": 10,
      "metadata": {
        "id": "vpkI83t3KBsF"
      },
      "outputs": [],
      "source": [
        "from sklearn.model_selection import train_test_split"
      ]
    },
    {
      "cell_type": "code",
      "execution_count": 11,
      "metadata": {
        "id": "l-gm9r-jKMJY"
      },
      "outputs": [],
      "source": [
        "train_input, test_input, train_target, test_target = train_test_split(\n",
        "    fish_data, fish_target, random_state=42)"
      ]
    },
    {
      "cell_type": "code",
      "execution_count": 12,
      "metadata": {
        "colab": {
          "base_uri": "https://localhost:8080/"
        },
        "id": "CS696_mxKZ38",
        "outputId": "3bd3ca94-721b-4359-ee47-fa4d93f897e8"
      },
      "outputs": [
        {
          "metadata": {
            "tags": null
          },
          "name": "stdout",
          "output_type": "stream",
          "text": [
            "(36, 2) (13, 2)\n"
          ]
        }
      ],
      "source": [
        "print(train_input.shape, test_input.shape)"
      ]
    },
    {
      "cell_type": "code",
      "execution_count": 13,
      "metadata": {
        "colab": {
          "base_uri": "https://localhost:8080/"
        },
        "id": "PtNqwNjbKnI-",
        "outputId": "4c959552-2ec5-4b7e-cb26-a9300d55d321"
      },
      "outputs": [
        {
          "metadata": {
            "tags": null
          },
          "name": "stdout",
          "output_type": "stream",
          "text": [
            "(36,) (13,)\n"
          ]
        }
      ],
      "source": [
        "print(train_target.shape, test_target.shape)"
      ]
    },
    {
      "cell_type": "code",
      "execution_count": 14,
      "metadata": {
        "colab": {
          "base_uri": "https://localhost:8080/"
        },
        "id": "mR9_bB3COHaA",
        "outputId": "064ca781-13ba-4af4-f2ff-7a69118da88b"
      },
      "outputs": [
        {
          "metadata": {
            "tags": null
          },
          "name": "stdout",
          "output_type": "stream",
          "text": [
            "[1. 0. 0. 0. 1. 1. 1. 1. 1. 1. 1. 1. 1.]\n"
          ]
        }
      ],
      "source": [
        "print(test_target)"
      ]
    },
    {
      "cell_type": "code",
      "execution_count": 15,
      "metadata": {
        "id": "vUv0gHOuO_wg"
      },
      "outputs": [],
      "source": [
        "train_input, test_input, train_target, test_target = train_test_split(\n",
        "    fish_data, fish_target, stratify=fish_target, random_state=42)"
      ]
    },
    {
      "cell_type": "code",
      "execution_count": 16,
      "metadata": {
        "colab": {
          "base_uri": "https://localhost:8080/"
        },
        "id": "aDkLM6oDPdO9",
        "outputId": "dcc480b2-f6a4-4494-af7f-580b287b0f0b"
      },
      "outputs": [
        {
          "metadata": {
            "tags": null
          },
          "name": "stdout",
          "output_type": "stream",
          "text": [
            "[0. 0. 1. 0. 1. 0. 1. 1. 1. 1. 1. 1. 1.]\n"
          ]
        }
      ],
      "source": [
        "print(test_target)"
      ]
    },
    {
      "cell_type": "markdown",
      "metadata": {
        "id": "PofdMj1iyTEk"
      },
      "source": [
        "## 수상한 도미 한마리"
      ]
    },
    {
      "cell_type": "code",
      "execution_count": 17,
      "metadata": {
        "colab": {
          "base_uri": "https://localhost:8080/"
        },
        "id": "HhB-Alz--6U4",
        "outputId": "58954523-eb56-4ffa-ffb9-34cc54889e1b"
      },
      "outputs": [
        {
          "data": {
            "text/plain": [
              "1.0"
            ]
          },
          "execution_count": 17,
          "metadata": {},
          "output_type": "execute_result"
        }
      ],
      "source": [
        "from sklearn.neighbors import KNeighborsClassifier\n",
        "\n",
        "kn = KNeighborsClassifier()\n",
        "kn.fit(train_input, train_target)\n",
        "kn.score(test_input, test_target)"
      ]
    },
    {
      "cell_type": "code",
      "execution_count": 18,
      "metadata": {
        "colab": {
          "base_uri": "https://localhost:8080/"
        },
        "id": "JRKoCZFeT9xE",
        "outputId": "20ffa4c1-e74a-4ad6-c111-308610388ce0"
      },
      "outputs": [
        {
          "metadata": {
            "tags": null
          },
          "name": "stdout",
          "output_type": "stream",
          "text": [
            "[0.]\n"
          ]
        }
      ],
      "source": [
        "print(kn.predict([[25, 150]]))"
      ]
    },
    {
      "cell_type": "code",
      "execution_count": 19,
      "metadata": {
        "id": "jSEc853pQHSu"
      },
      "outputs": [],
      "source": [
        "import matplotlib.pyplot as plt"
      ]
    },
    {
      "cell_type": "markdown",
      "source": [
        "![image.png](\n",
        "  \n",
        ")"
      ],
      "metadata": {
        "id": "soRkmrUMESPc"
      }
    },
    {
      "cell_type": "code",
      "execution_count": 20,
      "metadata": {
        "colab": {
          "base_uri": "https://localhost:8080/",
          "height": 279
        },
        "id": "1-GE9ic9_XRU",
        "outputId": "1f2617f2-9e16-488f-e747-66f6d638ad3a"
      },
      "outputs": [
        {
          "data": {
            "image/png": "[encoded data removed]",
            "text/plain": [
              "<Figure size 432x288 with 1 Axes>"
            ]
          },
          "metadata": {},
          "output_type": "display_data"
        }
      ],
      "source": [
        "plt.scatter(train_input[:,0], train_input[:,1])\n",
        "plt.scatter(25, 150, marker='^')\n",
        "plt.xlabel('length')\n",
        "plt.ylabel('weight')\n",
        "plt.show()"
      ]
    },
    {
      "cell_type": "markdown",
      "source": [
        "kneighbors ()\n",
        "\n",
        "가장 가까운 이웃을 찾아주는 메서드"
      ],
      "metadata": {
        "id": "9JxaV0R1EhgD"
      }
    },
    {
      "cell_type": "code",
      "execution_count": 21,
      "metadata": {
        "id": "G_jwm_ouQKQ7"
      },
      "outputs": [],
      "source": [
        "distances, indexes = kn.kneighbors([[25, 150]])"
      ]
    },
    {
      "cell_type": "code",
      "execution_count": 22,
      "metadata": {
        "colab": {
          "base_uri": "https://localhost:8080/",
          "height": 279
        },
        "id": "tVVz-wJoQ2ps",
        "outputId": "6d18e1f3-bdb5-4d9d-e129-22beb7e9eda8"
      },
      "outputs": [
        {
          "data": {
            "image/png": "[encoded data removed]",
            "text/plain": [
              "<Figure size 432x288 with 1 Axes>"
            ]
          },
          "metadata": {},
          "output_type": "display_data"
        }
      ],
      "source": [
        "plt.scatter(train_input[:,0], train_input[:,1])\n",
        "plt.scatter(25, 150, marker='^')\n",
        "plt.scatter(train_input[indexes,0], train_input[indexes,1], marker='D')\n",
        "plt.xlabel('length')\n",
        "plt.ylabel('weight')\n",
        "plt.show()"
      ]
    },
    {
      "cell_type": "markdown",
      "source": [
        "indexes\n",
        "\n",
        "가까운 5개의 index 값을 반환"
      ],
      "metadata": {
        "id": "w2EKraUOEobE"
      }
    },
    {
      "cell_type": "code",
      "execution_count": 23,
      "metadata": {
        "colab": {
          "base_uri": "https://localhost:8080/"
        },
        "id": "0IvKvCx1RyhY",
        "outputId": "61477fc3-4c64-4f37-9d7e-779c4af70028"
      },
      "outputs": [
        {
          "metadata": {
            "tags": null
          },
          "name": "stdout",
          "output_type": "stream",
          "text": [
            "[[[ 25.4 242. ]\n",
            "  [ 15.   19.9]\n",
            "  [ 14.3  19.7]\n",
            "  [ 13.   12.2]\n",
            "  [ 12.2  12.2]]]\n"
          ]
        }
      ],
      "source": [
        "print(train_input[indexes])"
      ]
    },
    {
      "cell_type": "code",
      "execution_count": 24,
      "metadata": {
        "colab": {
          "base_uri": "https://localhost:8080/"
        },
        "id": "3tEGpNPT00ut",
        "outputId": "2f690465-df9c-417f-b431-c315473f5382"
      },
      "outputs": [
        {
          "metadata": {
            "tags": null
          },
          "name": "stdout",
          "output_type": "stream",
          "text": [
            "[[1. 0. 0. 0. 0.]]\n"
          ]
        }
      ],
      "source": [
        "print(train_target[indexes])"
      ]
    },
    {
      "cell_type": "markdown",
      "source": [
        "distances\n",
        "\n",
        "가까운 5개의 거리 값 반환"
      ],
      "metadata": {
        "id": "f7xmk92BEzWm"
      }
    },
    {
      "cell_type": "code",
      "execution_count": 25,
      "metadata": {
        "colab": {
          "base_uri": "https://localhost:8080/"
        },
        "id": "ry0R_gEqRVsQ",
        "outputId": "a0a9d5ce-2c2c-46bb-c893-14409fcbf3d3"
      },
      "outputs": [
        {
          "metadata": {
            "tags": null
          },
          "name": "stdout",
          "output_type": "stream",
          "text": [
            "[[ 92.00086956 130.48375378 130.73859415 138.32150953 138.39320793]]\n"
          ]
        }
      ],
      "source": [
        "print(distances)"
      ]
    },
    {
      "cell_type": "markdown",
      "metadata": {
        "id": "xP00zpGuyTEo"
      },
      "source": [
        "## 기준을 맞춰라"
      ]
    },
    {
      "cell_type": "markdown",
      "source": [
        "![image.png](data:image/png;base64,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)"
      ],
      "metadata": {
        "id": "8bCQ0VMNDGaJ"
      }
    },
    {
      "cell_type": "code",
      "execution_count": 26,
      "metadata": {
        "colab": {
          "base_uri": "https://localhost:8080/",
          "height": 279
        },
        "id": "P6PXDboiTx_j",
        "outputId": "ee222bef-3dc4-4b22-d3ac-5416535a56fc",
        "scrolled": true
      },
      "outputs": [
        {
          "data": {
            "image/png": "[encoded data removed]",
            "text/plain": [
              "<Figure size 432x288 with 1 Axes>"
            ]
          },
          "metadata": {},
          "output_type": "display_data"
        }
      ],
      "source": [
        "plt.scatter(train_input[:,0], train_input[:,1])\n",
        "plt.scatter(25, 150, marker='^')\n",
        "plt.scatter(train_input[indexes,0], train_input[indexes,1], marker='D')\n",
        "plt.xlim((0, 1000))\n",
        "plt.xlabel('length')\n",
        "plt.ylabel('weight')\n",
        "plt.show()"
      ]
    },
    {
      "cell_type": "markdown",
      "source": [
        "가로 축과 세로 축의 범위를 동일하게 두어 봤을 때, 세로 축 기준으로 이웃을 찾게 되는 현상을 찾을 수 있다.\n",
        "\n",
        "최근접 이웃 알고리즘 단점 : 스케일이 큰 차이가 발생 되는 데이터의 정확도가 떨어진다.\n",
        "\n",
        "모든 거리기반 알고리즘의 단점은 스케일에 따른 결과 영향을 많이 받는다.\n",
        "\n",
        "샘플 간의 거리를 정상적으로 이용하려면 특성값을 일정한 기준으로 맞춰 주어야 한다.\n"
      ],
      "metadata": {
        "id": "DWd6JKHYFMzT"
      }
    },
    {
      "cell_type": "markdown",
      "source": [
        "표준점수 : 가장 많이 사용되는 전처리 방법\n",
        "\n",
        "- 평균에서 표준편차의 몇 배만큼 떨어져 있는지 지표\n",
        "\n",
        "- 실제 특성값의 크기와 상관 없이 동일한 조건으로 비교 가능하다.\n",
        "\n",
        "분산 : 평균을 뺀 값을 모두 제곱한 다음 평균을 내어 구함\n",
        "\n",
        "표준편차 : 분산의 제곱근으로 분산 정도 나타냄\n",
        "\n",
        "표준점수 : 각 데이터가 원점에서 표준 편차만큼 어느 정도 떨어졌는지 나타내는 값"
      ],
      "metadata": {
        "id": "cLE1Mq3UGFB1"
      }
    },
    {
      "cell_type": "code",
      "execution_count": 27,
      "metadata": {
        "id": "Yi9xncqkUGIZ"
      },
      "outputs": [],
      "source": [
        "mean = np.mean(train_input, axis=0)\n",
        "std = np.std(train_input, axis=0)"
      ]
    },
    {
      "cell_type": "markdown",
      "source": [
        "mean() : 평균 메소드\n",
        "\n",
        "std() : 표준 편차 메소드"
      ],
      "metadata": {
        "id": "O_vWAKZbHdnk"
      }
    },
    {
      "cell_type": "code",
      "execution_count": 28,
      "metadata": {
        "colab": {
          "base_uri": "https://localhost:8080/"
        },
        "id": "f7CuQC8IUsty",
        "outputId": "5ce221c4-cb83-4dd9-8a4d-f6ee8cf4e0c8"
      },
      "outputs": [
        {
          "metadata": {
            "tags": null
          },
          "name": "stdout",
          "output_type": "stream",
          "text": [
            "[ 27.29722222 454.09722222] [  9.98244253 323.29893931]\n"
          ]
        }
      ],
      "source": [
        "print(mean, std)"
      ]
    },
    {
      "cell_type": "code",
      "execution_count": 29,
      "metadata": {
        "id": "jmSFa3LzUteI"
      },
      "outputs": [],
      "source": [
        "train_scaled = (train_input - mean) / std"
      ]
    },
    {
      "cell_type": "markdown",
      "metadata": {
        "id": "fDmVveaqyTEq"
      },
      "source": [
        "## 전처리 데이터로 모델 훈련하기"
      ]
    },
    {
      "cell_type": "code",
      "execution_count": 30,
      "metadata": {
        "colab": {
          "base_uri": "https://localhost:8080/",
          "height": 279
        },
        "id": "P4dx2WDOVDMD",
        "outputId": "0d66ed5e-62eb-43cd-ce7b-f58580dc2cbe",
        "scrolled": true
      },
      "outputs": [
        {
          "data": {
            "image/png": "[encoded data removed]",
            "text/plain": [
              "<Figure size 432x288 with 1 Axes>"
            ]
          },
          "metadata": {},
          "output_type": "display_data"
        }
      ],
      "source": [
        "plt.scatter(train_scaled[:,0], train_scaled[:,1])\n",
        "plt.scatter(25, 150, marker='^')\n",
        "plt.xlabel('length')\n",
        "plt.ylabel('weight')\n",
        "plt.show()"
      ]
    },
    {
      "cell_type": "code",
      "execution_count": 31,
      "metadata": {
        "id": "Kjd2W6ZbVlgG"
      },
      "outputs": [],
      "source": [
        "new = ([25, 150] - mean) / std"
      ]
    },
    {
      "cell_type": "code",
      "execution_count": 32,
      "metadata": {
        "colab": {
          "base_uri": "https://localhost:8080/",
          "height": 279
        },
        "id": "5-Zq-jIMVbV-",
        "outputId": "291a0f55-7fd2-4eba-d0d5-a435f8cca9ef"
      },
      "outputs": [
        {
          "data": {
            "image/png": "[encoded data removed]",
            "text/plain": [
              "<Figure size 432x288 with 1 Axes>"
            ]
          },
          "metadata": {},
          "output_type": "display_data"
        }
      ],
      "source": [
        "plt.scatter(train_scaled[:,0], train_scaled[:,1])\n",
        "plt.scatter(new[0], new[1], marker='^')\n",
        "plt.xlabel('length')\n",
        "plt.ylabel('weight')\n",
        "plt.show()"
      ]
    },
    {
      "cell_type": "code",
      "execution_count": 33,
      "metadata": {
        "colab": {
          "base_uri": "https://localhost:8080/"
        },
        "id": "NbsFki8MVtrn",
        "outputId": "a0434ebb-bb4b-412d-d5d6-2c34910c92ad"
      },
      "outputs": [
        {
          "data": {
            "text/plain": [
              "KNeighborsClassifier()"
            ]
          },
          "execution_count": 33,
          "metadata": {},
          "output_type": "execute_result"
        }
      ],
      "source": [
        "kn.fit(train_scaled, train_target)"
      ]
    },
    {
      "cell_type": "code",
      "execution_count": 34,
      "metadata": {
        "id": "5uc_k1nlWnNN"
      },
      "outputs": [],
      "source": [
        "test_scaled = (test_input - mean) / std"
      ]
    },
    {
      "cell_type": "code",
      "execution_count": 35,
      "metadata": {
        "colab": {
          "base_uri": "https://localhost:8080/"
        },
        "id": "6PfEwPLxWvdz",
        "outputId": "ff77ce21-4a33-43a1-b731-d6afadf685e7"
      },
      "outputs": [
        {
          "data": {
            "text/plain": [
              "1.0"
            ]
          },
          "execution_count": 35,
          "metadata": {},
          "output_type": "execute_result"
        }
      ],
      "source": [
        "kn.score(test_scaled, test_target)"
      ]
    },
    {
      "cell_type": "code",
      "execution_count": 36,
      "metadata": {
        "colab": {
          "base_uri": "https://localhost:8080/"
        },
        "id": "mox3oWCLWzGW",
        "outputId": "0c79da36-2742-4754-be2a-7a3290e07b10"
      },
      "outputs": [
        {
          "metadata": {
            "tags": null
          },
          "name": "stdout",
          "output_type": "stream",
          "text": [
            "[1.]\n"
          ]
        }
      ],
      "source": [
        "print(kn.predict([new]))"
      ]
    },
    {
      "cell_type": "code",
      "execution_count": 37,
      "metadata": {
        "id": "bRU4r44-W1t3"
      },
      "outputs": [],
      "source": [
        "distances, indexes = kn.kneighbors([new])"
      ]
    },
    {
      "cell_type": "code",
      "execution_count": 38,
      "metadata": {
        "colab": {
          "base_uri": "https://localhost:8080/",
          "height": 279
        },
        "id": "bHWAbdefW9W6",
        "outputId": "4ed2593f-8b37-4b37-b169-c323b041135c"
      },
      "outputs": [
        {
          "data": {
            "image/png": "[encoded data removed]",
            "text/plain": [
              "<Figure size 432x288 with 1 Axes>"
            ]
          },
          "metadata": {},
          "output_type": "display_data"
        }
      ],
      "source": [
        "plt.scatter(train_scaled[:,0], train_scaled[:,1])\n",
        "plt.scatter(new[0], new[1], marker='^')\n",
        "plt.scatter(train_scaled[indexes,0], train_scaled[indexes,1], marker='D')\n",
        "plt.xlabel('length')\n",
        "plt.ylabel('weight')\n",
        "plt.show()"
      ]
    }
  ],
  "metadata": {
    "colab": {
      "collapsed_sections": [],
      "name": "2-2. 데이터 전처리",
      "provenance": []
    },
    "kernelspec": {
      "display_name": "Python 3",
      "name": "python3"
    },
    "language_info": {
      "name": "python"
    },
    "gpuClass": "standard"
  },
  "nbformat": 4,
  "nbformat_minor": 0
}