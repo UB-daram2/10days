{
  "nbformat": 4,
  "nbformat_minor": 0,
  "metadata": {
    "colab": {
      "name": "십요일",
      "provenance": [],
      "collapsed_sections": [],
      "authorship_tag": "ABX9TyNLbaYUf/y172ATtTtXeapF",
      "include_colab_link": true
    },
    "kernelspec": {
      "name": "python3",
      "display_name": "Python 3"
    },
    "language_info": {
      "name": "python"
    }
  },
  "cells": [
    {
      "cell_type": "markdown",
      "metadata": {
        "id": "view-in-github",
        "colab_type": "text"
      },
      "source": [
        "<a href=\"https://colab.research.google.com/github/UB-daram2/10days/blob/main/%EC%8B%AD%EC%9A%94%EC%9D%BC.ipynb\" target=\"_parent\"><img src=\"https://colab.research.google.com/assets/colab-badge.svg\" alt=\"Open In Colab\"/></a>"
      ]
    },
    {
      "cell_type": "markdown",
      "source": [
        "데이터 분석용 산점도 그래프\n",
        "\n",
        "import matplotlib : 과학계산용 그래프 패키지\n",
        "\n",
        "선형 : 산점도 그래프가 일직선에 가까운 형태로 나타나는 경우"
      ],
      "metadata": {
        "id": "wNED2U5aFacw"
      }
    },
    {
      "cell_type": "code",
      "execution_count": 12,
      "metadata": {
        "colab": {
          "base_uri": "https://localhost:8080/",
          "height": 279
        },
        "id": "AKfDGcb4ueV9",
        "outputId": "d3bf8c62-3211-4f36-fffa-f914731d4de7"
      },
      "outputs": [
        {
          "output_type": "display_data",
          "data": {
            "text/plain": [
              "<Figure size 432x288 with 1 Axes>"
            ],
            "image/png": "[encoded data removed]"
          },
          "metadata": {
            "needs_background": "light"
          }
        }
      ],
      "source": [
        "\n",
        "import matplotlib.pyplot as plt\n",
        "\n",
        "a_info = [25.4, 26.3, 26.5, 29.0, 29.0, 29.7, 29.7, 30.0, 30.0, 30.7, 31.0, 31.0, \n",
        "                31.5, 32.0, 32.0, 32.0, 33.0, 33.0, 33.5, 33.5, 34.0, 34.0, 34.5, 35.0, \n",
        "                35.0, 35.0, 35.0, 36.0, 36.0, 37.0, 38.5, 38.5, 39.5, 41.0, 41.0]\n",
        "a_data = [242.0, 290.0, 340.0, 363.0, 430.0, 450.0, 500.0, 390.0, 450.0, 500.0, 475.0, 500.0, \n",
        "                500.0, 340.0, 600.0, 600.0, 700.0, 700.0, 610.0, 650.0, 575.0, 685.0, 620.0, 680.0, \n",
        "                700.0, 725.0, 720.0, 714.0, 850.0, 1000.0, 920.0, 955.0, 925.0, 975.0, 950.0]\n",
        "\n",
        "plt.scatter(a_info, a_data)\n",
        "plt.xlabel('info')\n",
        "plt.ylabel('data')\n",
        "plt.show()\n",
        "\n"
      ]
    },
    {
      "cell_type": "markdown",
      "source": [
        "scatter() N번 할당 : 한 그래프에 N개 이상의 산점도를 한 그래프에 비교해서 그리는 경우"
      ],
      "metadata": {
        "id": "_gznN1mgHUq4"
      }
    },
    {
      "cell_type": "code",
      "source": [
        "b_info = [9.8, 10.5, 10.6, 11.0, 11.2, 11.3, 11.8, 11.8, 12.0, 12.2, 12.4, 13.0, 14.3, 15.0]\n",
        "b_data = [6.7, 7.5, 7.0, 9.7, 9.8, 8.7, 10.0, 9.9, 9.8, 12.2, 13.4, 12.2, 19.7, 19.9]\n",
        "\n",
        "plt.scatter(a_info, a_data)\n",
        "plt.scatter(b_info, b_data)\n",
        "plt.xlabel('info')\n",
        "plt.ylabel('data')\n",
        "plt.show()"
      ],
      "metadata": {
        "colab": {
          "base_uri": "https://localhost:8080/",
          "height": 279
        },
        "id": "Hv5SqOPaDWZU",
        "outputId": "d2147ae5-9967-417c-ff4f-bbd9340ed36a"
      },
      "execution_count": 13,
      "outputs": [
        {
          "output_type": "display_data",
          "data": {
            "text/plain": [
              "<Figure size 432x288 with 1 Axes>"
            ],
            "image/png": "[encoded data removed]"
          },
          "metadata": {
            "needs_background": "light"
          }
        }
      ]
    },
    {
      "cell_type": "markdown",
      "source": [
        "zip() : 나열된 리스트 각각에서 하나씩 원소를 반환 함수\n",
        "\n",
        "[ [x, y] for x, y in zip(data1, dat2) ] : 리스트 동일 작업 반복해서 N 차원 리스트 만들기"
      ],
      "metadata": {
        "id": "stxcCS-aEM1J"
      }
    },
    {
      "cell_type": "code",
      "source": [
        "length = a_info + b_info\n",
        "weight = a_data + b_data\n",
        "\n",
        "info_data = [[l, w] for l, w in zip(length, weight)]\n",
        "\n",
        "print(info_data)"
      ],
      "metadata": {
        "colab": {
          "base_uri": "https://localhost:8080/"
        },
        "id": "s__zIJTeDbe7",
        "outputId": "390b377c-7eb8-42b6-c71f-496545d84e94"
      },
      "execution_count": 14,
      "outputs": [
        {
          "output_type": "stream",
          "name": "stdout",
          "text": [
            "[[25.4, 242.0], [26.3, 290.0], [26.5, 340.0], [29.0, 363.0], [29.0, 430.0], [29.7, 450.0], [29.7, 500.0], [30.0, 390.0], [30.0, 450.0], [30.7, 500.0], [31.0, 475.0], [31.0, 500.0], [31.5, 500.0], [32.0, 340.0], [32.0, 600.0], [32.0, 600.0], [33.0, 700.0], [33.0, 700.0], [33.5, 610.0], [33.5, 650.0], [34.0, 575.0], [34.0, 685.0], [34.5, 620.0], [35.0, 680.0], [35.0, 700.0], [35.0, 725.0], [35.0, 720.0], [36.0, 714.0], [36.0, 850.0], [37.0, 1000.0], [38.5, 920.0], [38.5, 955.0], [39.5, 925.0], [41.0, 975.0], [41.0, 950.0], [9.8, 6.7], [10.5, 7.5], [10.6, 7.0], [11.0, 9.7], [11.2, 9.8], [11.3, 8.7], [11.8, 10.0], [11.8, 9.9], [12.0, 9.8], [12.2, 12.2], [12.4, 13.4], [13.0, 12.2], [14.3, 19.7], [15.0, 19.9]]\n"
          ]
        }
      ]
    },
    {
      "cell_type": "markdown",
      "source": [
        "알고리즘에 이용될 인식가능한 분류 리스트 작성"
      ],
      "metadata": {
        "id": "UY4bWokREOew"
      }
    },
    {
      "cell_type": "code",
      "source": [
        "info_target = [1] * 35 + [0] * 14\n",
        "print(info_target)"
      ],
      "metadata": {
        "colab": {
          "base_uri": "https://localhost:8080/"
        },
        "id": "KagbUEg9Dx3P",
        "outputId": "384e4b98-e7c6-4ef6-c2da-c871d1328c67"
      },
      "execution_count": 15,
      "outputs": [
        {
          "output_type": "stream",
          "name": "stdout",
          "text": [
            "[1, 1, 1, 1, 1, 1, 1, 1, 1, 1, 1, 1, 1, 1, 1, 1, 1, 1, 1, 1, 1, 1, 1, 1, 1, 1, 1, 1, 1, 1, 1, 1, 1, 1, 1, 0, 0, 0, 0, 0, 0, 0, 0, 0, 0, 0, 0, 0, 0]\n"
          ]
        }
      ]
    },
    {
      "cell_type": "markdown",
      "source": [
        "KNeighborsClassifier : k-최근접 이웃 알고리즘 수현 클래스\n",
        "\n",
        "KNeighborsClassifier.fit() : 객체 리스트 학습 훈련 메서드\n",
        "\n",
        "KNeighborsClassifier.score() : 객체 리스트 학습 정도 평가 점수 반환 메서드 (0~1)\n",
        "\n",
        "from ~ import : 패키지 내 특정 클래스만 임포트 이용 원할 시"
      ],
      "metadata": {
        "id": "uEKHzrKYxYlO"
      }
    },
    {
      "cell_type": "code",
      "source": [
        "from sklearn.neighbors import KNeighborsClassifier\n",
        "\n",
        "kn = KNeighborsClassifier()\n",
        "\n",
        "kn.fit(info_data, info_target)\n",
        "\n",
        "kn.score(info_data, info_target)"
      ],
      "metadata": {
        "colab": {
          "base_uri": "https://localhost:8080/"
        },
        "id": "DfTMfHRZI8ew",
        "outputId": "3fb44579-3642-4b5a-eb58-fce97d204c8e"
      },
      "execution_count": 16,
      "outputs": [
        {
          "output_type": "execute_result",
          "data": {
            "text/plain": [
              "1.0"
            ]
          },
          "metadata": {},
          "execution_count": 16
        }
      ]
    },
    {
      "cell_type": "markdown",
      "source": [
        "k-최근접 이웃 알고리즘 : 데이터에 대한 답을 구할 때 주위의 다른 데이터를 보고 다수를 차지하는 것을 정답으로 사용\n",
        "\n",
        "KNeighborsClassifier.predict() : 데이터 입력 시 정답 예측 반환"
      ],
      "metadata": {
        "id": "i08gVnvx2qic"
      }
    },
    {
      "cell_type": "code",
      "source": [
        "c_info = 30\n",
        "c_data = 600\n",
        "\n",
        "plt.scatter(a_info, a_data)\n",
        "plt.scatter(b_info, b_data)\n",
        "plt.scatter(c_info, c_data)\n",
        "plt.xlabel('info')\n",
        "plt.ylabel('data')\n",
        "plt.show()\n",
        "\n",
        "kn.predict([[c_info, c_data]])"
      ],
      "metadata": {
        "colab": {
          "base_uri": "https://localhost:8080/",
          "height": 297
        },
        "id": "prRBixEk3nBC",
        "outputId": "afdce0d1-e7bc-4be8-bbf6-86aafc555c22"
      },
      "execution_count": 26,
      "outputs": [
        {
          "output_type": "display_data",
          "data": {
            "text/plain": [
              "<Figure size 432x288 with 1 Axes>"
            ],
            "image/png": "[encoded data removed]"
          },
          "metadata": {
            "needs_background": "light"
          }
        },
        {
          "output_type": "execute_result",
          "data": {
            "text/plain": [
              "array([1])"
            ]
          },
          "metadata": {},
          "execution_count": 26
        }
      ]
    }
  ]
}